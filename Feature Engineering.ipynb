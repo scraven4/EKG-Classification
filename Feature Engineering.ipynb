{
 "cells": [
  {
   "cell_type": "markdown",
   "id": "0229b8c2",
   "metadata": {},
   "source": [
    "## PBT-XL Classification"
   ]
  },
  {
   "cell_type": "markdown",
   "id": "686e0213",
   "metadata": {},
   "source": [
    "# Links\n",
    "DATASET: https://physionet.org/content/ptb-xl/1.0.1/\n",
    "\n",
    "Project Requirements: https://apmonitor.com/pds/index.php/Main/CourseProject\n",
    "\n",
    "Github Repository: https://github.com/scraven4/EKG-Classification\n"
   ]
  },
  {
   "cell_type": "code",
   "execution_count": null,
   "id": "ab0ba2a0",
   "metadata": {},
   "outputs": [],
   "source": []
  }
 ],
 "metadata": {
  "kernelspec": {
   "display_name": "Python 3 (ipykernel)",
   "language": "python",
   "name": "python3"
  },
  "language_info": {
   "codemirror_mode": {
    "name": "ipython",
    "version": 3
   },
   "file_extension": ".py",
   "mimetype": "text/x-python",
   "name": "python",
   "nbconvert_exporter": "python",
   "pygments_lexer": "ipython3",
   "version": "3.9.7"
  }
 },
 "nbformat": 4,
 "nbformat_minor": 5
}
