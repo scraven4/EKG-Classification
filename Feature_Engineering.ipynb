{
 "cells": [
  {
   "cell_type": "raw",
   "id": "70f72659",
   "metadata": {},
   "source": [
    "## PBT-XL Classification"
   ]
  },
  {
   "cell_type": "raw",
   "id": "d3314819",
   "metadata": {},
   "source": [
    "# Links\n",
    "DATASET: https://physionet.org/content/ptb-xl/1.0.1/\n",
    "\n",
    "Project Requirements: https://apmonitor.com/pds/index.php/Main/CourseProject\n",
    "\n",
    "Github Repository: https://github.com/scraven4/EKG-Classification\n"
   ]
  },
  {
   "cell_type": "code",
   "execution_count": 1,
   "id": "a85684a4",
   "metadata": {},
   "outputs": [
    {
     "name": "stdout",
     "output_type": "stream",
     "text": [
      "Collecting wfdb\n",
      "  Downloading wfdb-3.4.1-py3-none-any.whl (137 kB)\n",
      "Requirement already satisfied: matplotlib>=3.3.4 in c:\\programdata\\anaconda3\\lib\\site-packages (from wfdb) (3.4.3)\n",
      "Requirement already satisfied: scipy>=0.17.0 in c:\\programdata\\anaconda3\\lib\\site-packages (from wfdb) (1.7.1)\n",
      "Requirement already satisfied: numpy>=1.10.1 in c:\\programdata\\anaconda3\\lib\\site-packages (from wfdb) (1.20.3)\n",
      "Requirement already satisfied: pandas>=0.17.0 in c:\\programdata\\anaconda3\\lib\\site-packages (from wfdb) (1.3.4)\n",
      "Requirement already satisfied: requests>=2.8.1 in c:\\programdata\\anaconda3\\lib\\site-packages (from wfdb) (2.26.0)\n",
      "Requirement already satisfied: pillow>=6.2.0 in c:\\programdata\\anaconda3\\lib\\site-packages (from matplotlib>=3.3.4->wfdb) (8.4.0)\n",
      "Requirement already satisfied: python-dateutil>=2.7 in c:\\programdata\\anaconda3\\lib\\site-packages (from matplotlib>=3.3.4->wfdb) (2.8.2)\n",
      "Requirement already satisfied: pyparsing>=2.2.1 in c:\\programdata\\anaconda3\\lib\\site-packages (from matplotlib>=3.3.4->wfdb) (3.0.4)\n",
      "Requirement already satisfied: cycler>=0.10 in c:\\programdata\\anaconda3\\lib\\site-packages (from matplotlib>=3.3.4->wfdb) (0.10.0)\n",
      "Requirement already satisfied: kiwisolver>=1.0.1 in c:\\programdata\\anaconda3\\lib\\site-packages (from matplotlib>=3.3.4->wfdb) (1.3.1)\n",
      "Requirement already satisfied: six in c:\\programdata\\anaconda3\\lib\\site-packages (from cycler>=0.10->matplotlib>=3.3.4->wfdb) (1.16.0)\n",
      "Requirement already satisfied: pytz>=2017.3 in c:\\programdata\\anaconda3\\lib\\site-packages (from pandas>=0.17.0->wfdb) (2021.3)\n",
      "Requirement already satisfied: idna<4,>=2.5 in c:\\programdata\\anaconda3\\lib\\site-packages (from requests>=2.8.1->wfdb) (3.2)\n",
      "Requirement already satisfied: urllib3<1.27,>=1.21.1 in c:\\programdata\\anaconda3\\lib\\site-packages (from requests>=2.8.1->wfdb) (1.26.7)\n",
      "Requirement already satisfied: charset-normalizer~=2.0.0 in c:\\programdata\\anaconda3\\lib\\site-packages (from requests>=2.8.1->wfdb) (2.0.4)\n",
      "Requirement already satisfied: certifi>=2017.4.17 in c:\\programdata\\anaconda3\\lib\\site-packages (from requests>=2.8.1->wfdb) (2021.10.8)\n",
      "Installing collected packages: wfdb\n",
      "Successfully installed wfdb-3.4.1\n",
      "Collecting ast"
     ]
    },
    {
     "name": "stderr",
     "output_type": "stream",
     "text": [
      "    ERROR: Command errored out with exit status 1:\n",
      "     command: 'C:\\ProgramData\\Anaconda3\\python.exe' -c 'import io, os, sys, setuptools, tokenize; sys.argv[0] = '\"'\"'C:\\\\Users\\\\Hayden Wilde\\\\AppData\\\\Local\\\\Temp\\\\pip-install-sxqn9uf4\\\\ast_94226de16281453dad2ceb36b075588a\\\\setup.py'\"'\"'; __file__='\"'\"'C:\\\\Users\\\\Hayden Wilde\\\\AppData\\\\Local\\\\Temp\\\\pip-install-sxqn9uf4\\\\ast_94226de16281453dad2ceb36b075588a\\\\setup.py'\"'\"';f = getattr(tokenize, '\"'\"'open'\"'\"', open)(__file__) if os.path.exists(__file__) else io.StringIO('\"'\"'from setuptools import setup; setup()'\"'\"');code = f.read().replace('\"'\"'\\r\\n'\"'\"', '\"'\"'\\n'\"'\"');f.close();exec(compile(code, __file__, '\"'\"'exec'\"'\"'))' egg_info --egg-base 'C:\\Users\\Hayden Wilde\\AppData\\Local\\Temp\\pip-pip-egg-info-mpwudusq'\n",
      "         cwd: C:\\Users\\Hayden Wilde\\AppData\\Local\\Temp\\pip-install-sxqn9uf4\\ast_94226de16281453dad2ceb36b075588a\\\n",
      "    Complete output (7 lines):\n",
      "    Traceback (most recent call last):\n",
      "      File \"<string>\", line 1, in <module>\n",
      "      File \"C:\\Users\\Hayden Wilde\\AppData\\Local\\Temp\\pip-install-sxqn9uf4\\ast_94226de16281453dad2ceb36b075588a\\setup.py\", line 6, in <module>\n",
      "        README = codecs.open(os.path.join(here, 'AST/README'), encoding='utf8').read()\n",
      "      File \"C:\\ProgramData\\Anaconda3\\lib\\codecs.py\", line 905, in open\n",
      "        file = builtins.open(filename, mode, buffering)\n",
      "    FileNotFoundError: [Errno 2] No such file or directory: 'C:\\\\Users\\\\Hayden Wilde\\\\AppData\\\\Local\\\\Temp\\\\pip-install-sxqn9uf4\\\\ast_94226de16281453dad2ceb36b075588a\\\\AST/README'\n",
      "    ----------------------------------------\n",
      "WARNING: Discarding https://files.pythonhosted.org/packages/4b/fb/2b954d2a38c9a0ef1da6a46737a75b4dbf6f60e5dad0f267a4ec5ece20de/AST-0.0.2.tar.gz#sha256=dc5b79c6ba11aea72c59c791a0bc5ae483b4c18fec6f643002d6fae24361eba0 (from https://pypi.org/simple/ast/). Command errored out with exit status 1: python setup.py egg_info Check the logs for full command output.\n",
      "    ERROR: Command errored out with exit status 1:\n",
      "     command: 'C:\\ProgramData\\Anaconda3\\python.exe' -c 'import io, os, sys, setuptools, tokenize; sys.argv[0] = '\"'\"'C:\\\\Users\\\\Hayden Wilde\\\\AppData\\\\Local\\\\Temp\\\\pip-install-sxqn9uf4\\\\ast_b18e1f08b38049b386ae8929c83019ed\\\\setup.py'\"'\"'; __file__='\"'\"'C:\\\\Users\\\\Hayden Wilde\\\\AppData\\\\Local\\\\Temp\\\\pip-install-sxqn9uf4\\\\ast_b18e1f08b38049b386ae8929c83019ed\\\\setup.py'\"'\"';f = getattr(tokenize, '\"'\"'open'\"'\"', open)(__file__) if os.path.exists(__file__) else io.StringIO('\"'\"'from setuptools import setup; setup()'\"'\"');code = f.read().replace('\"'\"'\\r\\n'\"'\"', '\"'\"'\\n'\"'\"');f.close();exec(compile(code, __file__, '\"'\"'exec'\"'\"'))' egg_info --egg-base 'C:\\Users\\Hayden Wilde\\AppData\\Local\\Temp\\pip-pip-egg-info-dtdm4gmt'\n",
      "         cwd: C:\\Users\\Hayden Wilde\\AppData\\Local\\Temp\\pip-install-sxqn9uf4\\ast_b18e1f08b38049b386ae8929c83019ed\\\n",
      "    Complete output (7 lines):\n",
      "    Traceback (most recent call last):\n",
      "      File \"<string>\", line 1, in <module>\n",
      "      File \"C:\\Users\\Hayden Wilde\\AppData\\Local\\Temp\\pip-install-sxqn9uf4\\ast_b18e1f08b38049b386ae8929c83019ed\\setup.py\", line 6, in <module>\n",
      "        README = codecs.open(os.path.join(here, 'README.md'), encoding='utf8').read()\n",
      "      File \"C:\\ProgramData\\Anaconda3\\lib\\codecs.py\", line 905, in open\n",
      "        file = builtins.open(filename, mode, buffering)\n",
      "    FileNotFoundError: [Errno 2] No such file or directory: 'C:\\\\Users\\\\Hayden Wilde\\\\AppData\\\\Local\\\\Temp\\\\pip-install-sxqn9uf4\\\\ast_b18e1f08b38049b386ae8929c83019ed\\\\README.md'\n",
      "    ----------------------------------------\n",
      "WARNING: Discarding https://files.pythonhosted.org/packages/a8/5a/5497b01657ead33200c98009cb9e78fe5986c90cc39ddaa64306f37472cf/AST-0.0.1.tar.gz#sha256=3ed8a7bd3526cfc46de1b849d92b03ae4600ed2042151f187b756c50ade5c2b0 (from https://pypi.org/simple/ast/). Command errored out with exit status 1: python setup.py egg_info Check the logs for full command output.\n",
      "ERROR: Could not find a version that satisfies the requirement ast (from versions: 0.0.1, 0.0.2)\n",
      "ERROR: No matching distribution found for ast\n"
     ]
    },
    {
     "name": "stdout",
     "output_type": "stream",
     "text": [
      "\n",
      "  Downloading AST-0.0.2.tar.gz (19 kB)\n",
      "  Downloading AST-0.0.1.tar.gz (19 kB)\n"
     ]
    }
   ],
   "source": [
    "!pip install wfdb\n",
    "!pip install ast"
   ]
  },
  {
   "cell_type": "code",
   "execution_count": null,
   "id": "1865d022",
   "metadata": {},
   "outputs": [],
   "source": [
    "##SAMPLE CODE FROM DATASET INFO PAGE - IMPORTS DATA AND SPLITS INTO TEST/TRAIN SET\n",
    "\n",
    "import pandas as pd\n",
    "import numpy as np\n",
    "import wfdb\n",
    "import ast\n",
    "\n",
    "def load_raw_data(df, sampling_rate, path):\n",
    "    #choose 100 for the 100hz file (500mb) and 500hz (2.7gB)\n",
    "    if sampling_rate == 100:\n",
    "        data = [wfdb.rdsamp(path+f) for f in df.filename_lr]\n",
    "    else:\n",
    "        data = [wfdb.rdsamp(path+f) for f in df.filename_hr]\n",
    "    data = np.array([signal for signal, meta in data])\n",
    "    return data\n",
    "\n",
    "path = r\"C:\\Users\\Hayden Wilde\\PYTHON\\ML Project\\PTB-XL Extracted\\\\\"\n",
    "sampling_rate = 100\n",
    "\n",
    "\n",
    "# load and convert annotation data\n",
    "Y = pd.read_csv(r\"C:\\Users\\Hayden Wilde\\PYTHON\\ML Project\\PTB-XL Extracted\\ptbxl_database.csv\", index_col='ecg_id')\n",
    "Y.scp_codes = Y.scp_codes.apply(lambda x: ast.literal_eval(x))\n",
    "\n",
    "# Load raw signal data\n",
    "X = load_raw_data(Y, sampling_rate, path)\n",
    "\n",
    "# Load scp_statements.csv for diagnostic aggregation\n",
    "agg_df = pd.read_csv(path+'scp_statements.csv', index_col=0)\n",
    "agg_df = agg_df[agg_df.diagnostic == 1]\n",
    "\n",
    "def aggregate_diagnostic(y_dic):\n",
    "    tmp = []\n",
    "    for key in y_dic.keys():\n",
    "        if key in agg_df.index:\n",
    "            tmp.append(agg_df.loc[key].diagnostic_class)\n",
    "    return list(set(tmp))\n",
    "\n",
    "# Apply diagnostic superclass\n",
    "Y['diagnostic_superclass'] = Y.scp_codes.apply(aggregate_diagnostic)\n",
    "\n",
    "# Split data into train and test\n",
    "test_fold = 10\n",
    "# Train\n",
    "X_train = X[np.where(Y.strat_fold != test_fold)]\n",
    "y_train = Y[(Y.strat_fold != test_fold)].diagnostic_superclass\n",
    "# Test\n",
    "X_test = X[np.where(Y.strat_fold == test_fold)]\n",
    "y_test = Y[Y.strat_fold == test_fold].diagnostic_superclass"
   ]
  },
  {
   "cell_type": "code",
   "execution_count": null,
   "id": "51e8ba28",
   "metadata": {},
   "outputs": [],
   "source": []
  }
 ],
 "metadata": {
  "kernelspec": {
   "display_name": "Python 3 (ipykernel)",
   "language": "python",
   "name": "python3"
  },
  "language_info": {
   "codemirror_mode": {
    "name": "ipython",
    "version": 3
   },
   "file_extension": ".py",
   "mimetype": "text/x-python",
   "name": "python",
   "nbconvert_exporter": "python",
   "pygments_lexer": "ipython3",
   "version": "3.9.7"
  }
 },
 "nbformat": 4,
 "nbformat_minor": 5
}
