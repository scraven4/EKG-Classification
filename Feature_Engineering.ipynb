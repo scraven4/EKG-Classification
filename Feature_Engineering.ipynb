{
 "cells": [
  {
   "cell_type": "markdown",
   "id": "efa3a04c",
   "metadata": {},
   "source": [
    "## PBT-XL Classification"
   ]
  },
  {
   "cell_type": "markdown",
   "id": "af8184ee",
   "metadata": {},
   "source": [
    "# Links\n",
    "DATASET: https://physionet.org/content/ptb-xl/1.0.1/\n",
    "\n",
    "Project Requirements: https://apmonitor.com/pds/index.php/Main/CourseProject\n",
    "\n",
    "Github Repository: https://github.com/scraven4/EKG-Classification\n"
   ]
  },
  {
   "cell_type": "code",
   "execution_count": 7,
   "id": "2c7f6ba5",
   "metadata": {
    "collapsed": true
   },
   "outputs": [
    {
     "name": "stdout",
     "output_type": "stream",
     "text": [
      "Requirement already satisfied: wfdb in c:\\users\\scrav\\anaconda3\\lib\\site-packages (3.4.1)\n",
      "Requirement already satisfied: matplotlib>=3.3.4 in c:\\users\\scrav\\anaconda3\\lib\\site-packages (from wfdb) (3.4.3)\n",
      "Requirement already satisfied: scipy>=0.17.0 in c:\\users\\scrav\\anaconda3\\lib\\site-packages (from wfdb) (1.7.1)\n",
      "Requirement already satisfied: pandas>=0.17.0 in c:\\users\\scrav\\anaconda3\\lib\\site-packages (from wfdb) (1.3.4)\n",
      "Requirement already satisfied: requests>=2.8.1 in c:\\users\\scrav\\anaconda3\\lib\\site-packages (from wfdb) (2.26.0)\n",
      "Requirement already satisfied: numpy>=1.10.1 in c:\\users\\scrav\\anaconda3\\lib\\site-packages (from wfdb) (1.22.1)\n",
      "Requirement already satisfied: python-dateutil>=2.7 in c:\\users\\scrav\\anaconda3\\lib\\site-packages (from matplotlib>=3.3.4->wfdb) (2.8.2)\n",
      "Requirement already satisfied: kiwisolver>=1.0.1 in c:\\users\\scrav\\anaconda3\\lib\\site-packages (from matplotlib>=3.3.4->wfdb) (1.3.1)\n",
      "Requirement already satisfied: pillow>=6.2.0 in c:\\users\\scrav\\anaconda3\\lib\\site-packages (from matplotlib>=3.3.4->wfdb) (8.4.0)\n",
      "Requirement already satisfied: pyparsing>=2.2.1 in c:\\users\\scrav\\anaconda3\\lib\\site-packages (from matplotlib>=3.3.4->wfdb) (3.0.4)\n",
      "Requirement already satisfied: cycler>=0.10 in c:\\users\\scrav\\anaconda3\\lib\\site-packages (from matplotlib>=3.3.4->wfdb) (0.10.0)\n",
      "Requirement already satisfied: six in c:\\users\\scrav\\anaconda3\\lib\\site-packages (from cycler>=0.10->matplotlib>=3.3.4->wfdb) (1.16.0)\n",
      "Requirement already satisfied: pytz>=2017.3 in c:\\users\\scrav\\anaconda3\\lib\\site-packages (from pandas>=0.17.0->wfdb) (2021.3)\n",
      "Requirement already satisfied: certifi>=2017.4.17 in c:\\users\\scrav\\anaconda3\\lib\\site-packages (from requests>=2.8.1->wfdb) (2021.10.8)\n",
      "Requirement already satisfied: charset-normalizer~=2.0.0 in c:\\users\\scrav\\anaconda3\\lib\\site-packages (from requests>=2.8.1->wfdb) (2.0.4)\n",
      "Requirement already satisfied: urllib3<1.27,>=1.21.1 in c:\\users\\scrav\\anaconda3\\lib\\site-packages (from requests>=2.8.1->wfdb) (1.26.7)\n",
      "Requirement already satisfied: idna<4,>=2.5 in c:\\users\\scrav\\anaconda3\\lib\\site-packages (from requests>=2.8.1->wfdb) (3.2)\n"
     ]
    }
   ],
   "source": [
    "!pip install wfdb\n"
   ]
  },
  {
   "cell_type": "code",
   "execution_count": null,
   "id": "5444bf56",
   "metadata": {},
   "outputs": [],
   "source": [
    "##SAMPLE CODE FROM DATASET INFO PAGE - IMPORTS DATA AND SPLITS INTO TEST/TRAIN SET\n",
    "\n",
    "import pandas as pd\n",
    "import numpy as np\n",
    "import wfdb\n",
    "import ast\n",
    "\n",
    "def load_raw_data(df, sampling_rate, path):\n",
    "    #choose 100 for the 100hz file (500mb) and 500hz (2.7gB)\n",
    "    if sampling_rate == 100:\n",
    "        data = [wfdb.rdsamp(path+f) for f in df.filename_lr]\n",
    "    else:\n",
    "        data = [wfdb.rdsamp(path+f) for f in df.filename_hr]\n",
    "    data = np.array([signal for signal, meta in data])\n",
    "    return data\n",
    "\n",
    "path = r\"C:\\Users\\scrav\\Documents\\ECE 493R\\FInal Project - EKG\\PBT-XL Extracted\\\\\"\n",
    "\n",
    "\n",
    "# load and convert annotation data\n",
    "Y = pd.read_csv(r\"C:\\Users\\scrav\\Documents\\ECE 493R\\FInal Project - EKG\\PBT-XL Extracted\\ptbxl_database.csv\", index_col='ecg_id')\n",
    "Y.scp_codes = Y.scp_codes.apply(lambda x: ast.literal_eval(x))\n",
    "\n",
    "# Load raw signal data\n",
    "X = load_raw_data(Y, sampling_rate, path)\n",
    "\n",
    "# Load scp_statements.csv for diagnostic aggregation\n",
    "agg_df = pd.read_csv(path+'scp_statements.csv', index_col=0)\n",
    "agg_df = agg_df[agg_df.diagnostic == 1]\n",
    "\n",
    "def aggregate_diagnostic(y_dic):\n",
    "    tmp = []\n",
    "    for key in y_dic.keys():\n",
    "        if key in agg_df.index:\n",
    "            tmp.append(agg_df.loc[key].diagnostic_class)\n",
    "    return list(set(tmp))\n",
    "\n",
    "# Apply diagnostic superclass\n",
    "Y['diagnostic_superclass'] = Y.scp_codes.apply(aggregate_diagnostic)\n",
    "\n",
    "# Split data into train and test\n",
    "test_fold = 10\n",
    "# Train\n",
    "X_train = X[np.where(Y.strat_fold != test_fold)]\n",
    "y_train = Y[(Y.strat_fold != test_fold)].diagnostic_superclass\n",
    "# Test\n",
    "X_test = X[np.where(Y.strat_fold == test_fold)]\n",
    "y_test = Y[Y.strat_fold == test_fold].diagnostic_superclass"
   ]
  }
 ],
 "metadata": {
  "kernelspec": {
   "display_name": "Python 3 (ipykernel)",
   "language": "python",
   "name": "python3"
  },
  "language_info": {
   "codemirror_mode": {
    "name": "ipython",
    "version": 3
   },
   "file_extension": ".py",
   "mimetype": "text/x-python",
   "name": "python",
   "nbconvert_exporter": "python",
   "pygments_lexer": "ipython3",
   "version": "3.9.7"
  }
 },
 "nbformat": 4,
 "nbformat_minor": 5
}
